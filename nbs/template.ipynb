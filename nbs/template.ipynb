{
 "cells": [
  {
   "cell_type": "code",
   "execution_count": null,
   "metadata": {},
   "outputs": [],
   "source": [
    "%load_ext autoreload\n",
    "%load_ext watermark\n",
    "%watermark -a 'Ita Cirovic Donev (FinMetrika)' -v -p torch,transformers,pandas,numpy\n",
    "%autoreload 2"
   ]
  },
  {
   "cell_type": "code",
   "execution_count": null,
   "metadata": {},
   "outputs": [],
   "source": [
    "#| echo: false\n",
    "import sys, os\n",
    "# My Python library\n",
    "sys.path.insert(0, '/Users/icdonev/Developer/')\n",
    "# Project based source code\n",
    "sys.path.insert(0, '../src')\n",
    "print('This is Python ' + sys.version)"
   ]
  },
  {
   "cell_type": "code",
   "execution_count": null,
   "metadata": {},
   "outputs": [],
   "source": [
    "import pandas as pd\n",
    "from config import ProjectConfig\n",
    "from finmetrika import utils"
   ]
  },
  {
   "cell_type": "code",
   "execution_count": null,
   "metadata": {},
   "outputs": [],
   "source": [
    "FLAGS = ProjectConfig()\n",
    "# Set the option to display full content without truncation\n",
    "pd.set_option('display.max_colwidth', None)"
   ]
  }
 ],
 "metadata": {
  "kernelspec": {
   "display_name": "trxtfm",
   "language": "python",
   "name": "python3"
  },
  "language_info": {
   "name": "python",
   "version": "3.11.3"
  },
  "orig_nbformat": 4
 },
 "nbformat": 4,
 "nbformat_minor": 2
}
